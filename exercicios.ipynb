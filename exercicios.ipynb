{
  "nbformat": 4,
  "nbformat_minor": 0,
  "metadata": {
    "colab": {
      "provenance": [],
      "mount_file_id": "123_oMKaqRbazi3bfwKtc6MGoZQJIUqZi",
      "authorship_tag": "ABX9TyPeHmXRJrGcWsxsERFxSOc2",
      "include_colab_link": true
    },
    "kernelspec": {
      "name": "python3",
      "display_name": "Python 3"
    },
    "language_info": {
      "name": "python"
    }
  },
  "cells": [
    {
      "cell_type": "markdown",
      "metadata": {
        "id": "view-in-github",
        "colab_type": "text"
      },
      "source": [
        "<a href=\"https://colab.research.google.com/github/kingArttie/projetos/blob/main/exercicios.ipynb\" target=\"_parent\"><img src=\"https://colab.research.google.com/assets/colab-badge.svg\" alt=\"Open In Colab\"/></a>"
      ]
    },
    {
      "cell_type": "markdown",
      "source": [
        "VERIFICAÇÃO DE NÚMEROS MAIORES"
      ],
      "metadata": {
        "id": "fSCtrJ2rNk8Q"
      }
    },
    {
      "cell_type": "code",
      "execution_count": 5,
      "metadata": {
        "colab": {
          "base_uri": "https://localhost:8080/"
        },
        "id": "HGR0_iNLMQLo",
        "outputId": "aceecc07-9248-4c63-d0b5-b47e67adb731"
      },
      "outputs": [
        {
          "output_type": "stream",
          "name": "stdout",
          "text": [
            "VALOR 1: 2\n",
            "VALOR 2: 10\n",
            "O maior número é 10\n"
          ]
        }
      ],
      "source": [
        "n1 = int(input('VALOR 1: '))\n",
        "n2 = int(input('VALOR 2: '))\n",
        "if n1 > n2:\n",
        "  print(f'O maior número é o {n1}')\n",
        "else:\n",
        "  print(f'O maior número é o {n2}')"
      ]
    },
    {
      "cell_type": "markdown",
      "source": [
        "VERIFICANDO SE O NÚMERO É PAR OU IMPAR"
      ],
      "metadata": {
        "id": "6ZFoPh1LTf4k"
      }
    },
    {
      "cell_type": "code",
      "source": [
        "n1 = int(input('VALOR: '))\n",
        "if n1 % 2 == 1:\n",
        "  print(f'O número {n1} é impar')\n",
        "else:\n",
        "  print(f'O número {n1} é par')"
      ],
      "metadata": {
        "colab": {
          "base_uri": "https://localhost:8080/"
        },
        "id": "jJrvA6NeOmNP",
        "outputId": "157ecf53-4b02-4f19-9d1a-309938f4bbf8"
      },
      "execution_count": 10,
      "outputs": [
        {
          "output_type": "stream",
          "name": "stdout",
          "text": [
            "VALOR: 3\n",
            "O número 3 é impar\n"
          ]
        }
      ]
    },
    {
      "cell_type": "markdown",
      "source": [
        "VERIFICANDO SE O A PESSOA PASSOU, REPROVOU OU FICOU EM RECUPERAÇÃO\n"
      ],
      "metadata": {
        "id": "m-UTWw3PTk9L"
      }
    },
    {
      "cell_type": "code",
      "source": [
        "nota = float(input('NOTA: '))\n",
        "if nota >= 7:\n",
        "  print('APROVADO')\n",
        "elif (nota < 7) and (nota >= 5):\n",
        "  print('RECUPERAÇÃO')\n",
        "elif nota < 5:\n",
        "  print('REPROVADO')\n"
      ],
      "metadata": {
        "colab": {
          "base_uri": "https://localhost:8080/"
        },
        "id": "V2WvyBTCSW6R",
        "outputId": "ce02e490-58a8-4146-9278-00227aa47574"
      },
      "execution_count": 14,
      "outputs": [
        {
          "output_type": "stream",
          "name": "stdout",
          "text": [
            "NOTA: 5\n",
            "RECUPERAÇÃO\n"
          ]
        }
      ]
    },
    {
      "cell_type": "markdown",
      "source": [
        "Implementar uma solução que resolva a seguinte questão:\n",
        "-Calcular o valor da compra, sendo que o preço unitário é R$10,00.\n",
        "-Se for feita em uma compra de até 10 unidades, não há descontos.\n",
        "-Para compras entre 11 e 20 unidades é dado um desconto de 10%.\n",
        "-Acima de 20 unidades, é dado um desconto de 20%"
      ],
      "metadata": {
        "id": "xNbdNUFhUHRp"
      }
    },
    {
      "cell_type": "code",
      "source": [
        "print('-'*30 + 'VENDA DE PRODUTOS' + '-'*30)\n",
        "quant = float(input('QUANTIDADE: '))\n",
        "print('-' * 77)\n",
        "valorunit = 10\n",
        "desc10 = 0.1 # desconto de 10 %\n",
        "desc20 = 0.2 # desconto de 20 %\n",
        "if (quant > 10) and (quant <= 20):\n",
        "  valorvend = (valorunit - (valorunit * desc10)) * quant\n",
        "  print(f'VALOR UNITÁRIO: R${valorunit}')\n",
        "  print('DESCONTO APLICADO: 10%')\n",
        "  print(f'VALOR TOTAL: R${valorvend}')\n",
        "\n",
        "elif quant <= 10:\n",
        "  valorvend = valorunit * quant\n",
        "  print(f'VALOR UNITÁRIO: R${valorunit}')\n",
        "  print('DESCONTO NÃO APLICADO')\n",
        "  print(f'VALOR TOTAL: R${valorvend}')\n",
        "\n",
        "else:\n",
        "  valorvend = (valorunit - (valorunit * desc20)) * quant\n",
        "  print(f'VALOR UNITÁRIO: R${valorunit}')\n",
        "  print('DESCONTO APLICADO: 20%')\n",
        "  print(f'VALOR TOTAL: R${valorvend}')\n"
      ],
      "metadata": {
        "colab": {
          "base_uri": "https://localhost:8080/"
        },
        "id": "qazLw8uzUEK7",
        "outputId": "5507315f-4a0c-4f90-c41a-517feeac5539"
      },
      "execution_count": 36,
      "outputs": [
        {
          "output_type": "stream",
          "name": "stdout",
          "text": [
            "------------------------------VENDA DE PRODUTOS------------------------------\n",
            "QUANTIDADE: 10\n",
            "-----------------------------------------------------------------------------\n",
            "VALOR UNITÁRIO: R$10\n",
            "DESCONTO NÃO APLICADO\n",
            "VALOR TOTAL: R$100.0\n"
          ]
        }
      ]
    },
    {
      "cell_type": "markdown",
      "source": [
        "implementar uma solução em phyton que some todos os números pares de uma lista\n"
      ],
      "metadata": {
        "id": "9aP59cgaljQA"
      }
    },
    {
      "cell_type": "code",
      "source": [
        "lista = []\n",
        "resp = ''\n",
        "while True:\n",
        "  valor = int(input('VALOR: '))\n",
        "  if valor % 2 == 0:\n",
        "    lista.append(valor)\n",
        "    resp = str(input('Deseja continuar [S/N]? '))\n",
        "    soma = sum(lista)\n",
        "  if 'n' in resp:\n",
        "    break\n",
        "print(f'OS VALORES PARES FORAM {lista}')\n",
        "print(f'A SOMA DOS VALORES É {soma}')\n",
        "\n",
        ""
      ],
      "metadata": {
        "colab": {
          "base_uri": "https://localhost:8080/"
        },
        "id": "bZvCXrZOkxc1",
        "outputId": "231100ad-586c-4629-8ce5-6611d10f7036"
      },
      "execution_count": 42,
      "outputs": [
        {
          "output_type": "stream",
          "name": "stdout",
          "text": [
            "VALOR: 10\n",
            "Deseja continuar [S/N]? s\n",
            "VALOR: 20\n",
            "Deseja continuar [S/N]? s\n",
            "VALOR: 10\n",
            "Deseja continuar [S/N]? n\n",
            "OS VALORES PARES FORAM [10, 20, 10]\n",
            "A SOMA DOS VALORES É 40\n"
          ]
        }
      ]
    }
  ]
}