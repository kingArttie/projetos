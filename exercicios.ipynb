{
  "nbformat": 4,
  "nbformat_minor": 0,
  "metadata": {
    "colab": {
      "provenance": [],
      "mount_file_id": "123_oMKaqRbazi3bfwKtc6MGoZQJIUqZi",
      "authorship_tag": "ABX9TyPG3B8P+xZ1w10livLAIQes",
      "include_colab_link": true
    },
    "kernelspec": {
      "name": "python3",
      "display_name": "Python 3"
    },
    "language_info": {
      "name": "python"
    }
  },
  "cells": [
    {
      "cell_type": "markdown",
      "metadata": {
        "id": "view-in-github",
        "colab_type": "text"
      },
      "source": [
        "<a href=\"https://colab.research.google.com/github/kingArttie/projetos/blob/main/exercicios.ipynb\" target=\"_parent\"><img src=\"https://colab.research.google.com/assets/colab-badge.svg\" alt=\"Open In Colab\"/></a>"
      ]
    },
    {
      "cell_type": "markdown",
      "source": [
        "VERIFICAÇÃO DE NÚMEROS MAIORES"
      ],
      "metadata": {
        "id": "fSCtrJ2rNk8Q"
      }
    },
    {
      "cell_type": "code",
      "execution_count": 5,
      "metadata": {
        "colab": {
          "base_uri": "https://localhost:8080/"
        },
        "id": "HGR0_iNLMQLo",
        "outputId": "aceecc07-9248-4c63-d0b5-b47e67adb731"
      },
      "outputs": [
        {
          "output_type": "stream",
          "name": "stdout",
          "text": [
            "VALOR 1: 2\n",
            "VALOR 2: 10\n",
            "O maior número é 10\n"
          ]
        }
      ],
      "source": [
        "n1 = int(input('VALOR 1: '))\n",
        "n2 = int(input('VALOR 2: '))\n",
        "if n1 > n2:\n",
        "  print(f'O maior número é o {n1}')\n",
        "else:\n",
        "  print(f'O maior número é o {n2}')"
      ]
    },
    {
      "cell_type": "markdown",
      "source": [
        "VERIFICANDO SE O NÚMERO É PAR OU IMPAR"
      ],
      "metadata": {
        "id": "6ZFoPh1LTf4k"
      }
    },
    {
      "cell_type": "code",
      "source": [
        "n1 = int(input('VALOR: '))\n",
        "if n1 % 2 == 1:\n",
        "  print(f'O número {n1} é impar')\n",
        "else:\n",
        "  print(f'O número {n1} é par')"
      ],
      "metadata": {
        "colab": {
          "base_uri": "https://localhost:8080/"
        },
        "id": "jJrvA6NeOmNP",
        "outputId": "157ecf53-4b02-4f19-9d1a-309938f4bbf8"
      },
      "execution_count": 10,
      "outputs": [
        {
          "output_type": "stream",
          "name": "stdout",
          "text": [
            "VALOR: 3\n",
            "O número 3 é impar\n"
          ]
        }
      ]
    },
    {
      "cell_type": "markdown",
      "source": [
        "VERIFICANDO SE O A PESSOA PASSOU, REPROVOU OU FICOU EM RECUPERAÇÃO\n"
      ],
      "metadata": {
        "id": "m-UTWw3PTk9L"
      }
    },
    {
      "cell_type": "code",
      "source": [
        "nota = float(input('NOTA: '))\n",
        "if nota >= 7:\n",
        "  print('APROVADO')\n",
        "elif (nota < 7) and (nota >= 5):\n",
        "  print('RECUPERAÇÃO')\n",
        "elif nota < 5:\n",
        "  print('REPROVADO')\n"
      ],
      "metadata": {
        "colab": {
          "base_uri": "https://localhost:8080/"
        },
        "id": "V2WvyBTCSW6R",
        "outputId": "ce02e490-58a8-4146-9278-00227aa47574"
      },
      "execution_count": 14,
      "outputs": [
        {
          "output_type": "stream",
          "name": "stdout",
          "text": [
            "NOTA: 5\n",
            "RECUPERAÇÃO\n"
          ]
        }
      ]
    },
    {
      "cell_type": "markdown",
      "source": [
        "Implementar uma solução que resolva a seguinte questão:\n",
        "-Calcular o valor da compra, sendo que o preço unitário é R$10,00.\n",
        "-Se for feita em uma compra de até 10 unidades, não há descontos.\n",
        "-Para compras entre 11 e 20 unidades é dado um desconto de 10%.\n",
        "-Acima de 20 unidades, é dado um desconto de 20%"
      ],
      "metadata": {
        "id": "xNbdNUFhUHRp"
      }
    },
    {
      "cell_type": "code",
      "source": [],
      "metadata": {
        "id": "qazLw8uzUEK7"
      },
      "execution_count": null,
      "outputs": []
    }
  ]
}